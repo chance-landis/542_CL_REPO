{
 "cells": [
  {
   "cell_type": "markdown",
   "id": "84562854",
   "metadata": {},
   "source": [
    "Find 3 different information structures with different access technologies\n",
    "(e.g. API, DB connection, file download and read locally).\n",
    "\n",
    "Write python functions to access each one and print out a sample of the information. \n",
    "\n",
    "In comments for each function, describe pros and cons of the access methodology.\n",
    "\n",
    "Upload code to Github and share URL, make sure any instructions needed to run\n",
    "are available in comments, preferably downloading and running the python is\n",
    "as simple as possible."
   ]
  },
  {
   "cell_type": "code",
   "execution_count": null,
   "id": "256fd1cd",
   "metadata": {},
   "outputs": [],
   "source": [
    "# Import Statements\n",
    "\n",
    "import pandas as pd\n",
    "import requests"
   ]
  },
  {
   "cell_type": "code",
   "execution_count": 6,
   "id": "0b9e0094",
   "metadata": {},
   "outputs": [
    {
     "data": {
      "text/plain": [
       "<bound method NDFrame.head of     Unnamed: 0     Sex Class    Age    n      prop\n",
       "0            1    Male   1st  Child    5  1.000000\n",
       "1            2  Female   1st  Child    1  1.000000\n",
       "2            3    Male   2nd  Child   11  1.000000\n",
       "3            4  Female   2nd  Child   13  1.000000\n",
       "4            5    Male   3rd  Child   48  0.270833\n",
       "5            6  Female   3rd  Child   31  0.451613\n",
       "6            7    Male  Crew  Child    0       NaN\n",
       "7            8  Female  Crew  Child    0       NaN\n",
       "8            9    Male   1st  Adult  175  0.325714\n",
       "9           10  Female   1st  Adult  144  0.972222\n",
       "10          11    Male   2nd  Adult  168  0.083333\n",
       "11          12  Female   2nd  Adult   93  0.860215\n",
       "12          13    Male   3rd  Adult  462  0.162338\n",
       "13          14  Female   3rd  Adult  165  0.460606\n",
       "14          15    Male  Crew  Adult  862  0.222738\n",
       "15          16  Female  Crew  Adult   23  0.869565>"
      ]
     },
     "execution_count": 6,
     "metadata": {},
     "output_type": "execute_result"
    }
   ],
   "source": [
    "# Access Method One\n",
    "# CSV download FROM url\n",
    "\n",
    "# Pros: Ease of use with pandas library, access up-to-date CSV\n",
    "# Cons: Requires internet, delimiter has to be known\n",
    "\n",
    "df = pd.read_csv('https://faculty.washington.edu/kenrice/rintro/titanic.csv')\n",
    "df.head"
   ]
  },
  {
   "cell_type": "code",
   "execution_count": null,
   "id": "6ae99e78",
   "metadata": {},
   "outputs": [
    {
     "name": "stdout",
     "output_type": "stream",
     "text": [
      "Sample from Public API:\n",
      "[{'userId': 1, 'id': 1, 'title': 'sunt aut facere repellat provident occaecati excepturi optio reprehenderit', 'body': 'quia et suscipit\\nsuscipit recusandae consequuntur expedita et cum\\nreprehenderit molestiae ut ut quas totam\\nnostrum rerum est autem sunt rem eveniet architecto'}, {'userId': 1, 'id': 2, 'title': 'qui est esse', 'body': 'est rerum tempore vitae\\nsequi sint nihil reprehenderit dolor beatae ea dolores neque\\nfugiat blanditiis voluptate porro vel nihil molestiae ut reiciendis\\nqui aperiam non debitis possimus qui neque nisi nulla'}]\n"
     ]
    }
   ],
   "source": [
    "# Method 2\n",
    "# API Endpoint\n",
    "\n",
    "\"\"\"\n",
    "Pros: Most APIs return structured JSON that's easy to parse, Often requires minimal setup for access.\n",
    "\n",
    "Cons: Network latency can slow response time, rate limits, data structure mismatch if API updates\n",
    "\"\"\"\n",
    "\n",
    "url = \"https://jsonplaceholder.typicode.com/posts\"  # Sample public API\n",
    "try:\n",
    "    response = requests.get(url)\n",
    "    response.raise_for_status()  # Raise error for bad status codes\n",
    "    data = response.json()\n",
    "    print(\"Sample from Public API:\")\n",
    "    print(data[:2])  # Show first 2 records\n",
    "except requests.RequestException as e:\n",
    "    print(f\"Error fetching from API: {e}\")"
   ]
  },
  {
   "cell_type": "code",
   "execution_count": null,
   "id": "7c645f51",
   "metadata": {},
   "outputs": [
    {
     "data": {
      "text/plain": [
       "<bound method NDFrame.head of       Row ID Order Priority  Discount  Unit Price  Shipping Cost  Customer ID  \\\n",
       "0      20847           High      0.01        2.84           0.93            3   \n",
       "1      20228  Not Specified      0.02      500.98          26.00            5   \n",
       "2      21776       Critical      0.06        9.48           7.29           11   \n",
       "3      24844         Medium      0.09       78.69          19.99           14   \n",
       "4      24846         Medium      0.08        3.28           2.31           14   \n",
       "...      ...            ...       ...         ...            ...          ...   \n",
       "1947   19842           High      0.01       10.90           7.46         3397   \n",
       "1948   19843           High      0.10        7.99           5.03         3397   \n",
       "1949   26208  Not Specified      0.08       11.97           5.81         3399   \n",
       "1950   24911         Medium      0.10        9.38           4.93         3400   \n",
       "1951   25914           High      0.10      105.98          13.99         3403   \n",
       "\n",
       "          Customer Name       Ship Mode Customer Segment Product Category  \\\n",
       "0         Bonnie Potter     Express Air        Corporate  Office Supplies   \n",
       "1        Ronnie Proctor  Delivery Truck      Home Office        Furniture   \n",
       "2         Marcus Dunlap     Regular Air      Home Office        Furniture   \n",
       "3     Gwendolyn F Tyson     Regular Air   Small Business        Furniture   \n",
       "4     Gwendolyn F Tyson     Regular Air   Small Business  Office Supplies   \n",
       "...                 ...             ...              ...              ...   \n",
       "1947        Andrea Shaw     Regular Air   Small Business  Office Supplies   \n",
       "1948        Andrea Shaw     Regular Air   Small Business       Technology   \n",
       "1949        Marvin Reid     Regular Air   Small Business  Office Supplies   \n",
       "1950      Florence Gold     Express Air   Small Business        Furniture   \n",
       "1951      Tammy Buckley     Express Air         Consumer        Furniture   \n",
       "\n",
       "      ...   Region State or Province         City  Postal Code Order Date  \\\n",
       "0     ...     West        Washington    Anacortes        98221 2015-01-07   \n",
       "1     ...     West        California  San Gabriel        91776 2015-06-13   \n",
       "2     ...     East        New Jersey      Roselle         7203 2015-02-15   \n",
       "3     ...  Central         Minnesota   Prior Lake        55372 2015-05-12   \n",
       "4     ...  Central         Minnesota   Prior Lake        55372 2015-05-12   \n",
       "...   ...      ...               ...          ...          ...        ...   \n",
       "1947  ...  Central          Illinois     Danville        61832 2015-03-11   \n",
       "1948  ...  Central          Illinois     Danville        61832 2015-03-11   \n",
       "1949  ...  Central          Illinois  Des Plaines        60016 2015-03-29   \n",
       "1950  ...     East     West Virginia     Fairmont        26554 2015-04-04   \n",
       "1951  ...     West           Wyoming     Cheyenne        82001 2015-02-08   \n",
       "\n",
       "      Ship Date     Profit Quantity ordered new    Sales Order ID  \n",
       "0    2015-01-08     4.5600                    4    13.01    88522  \n",
       "1    2015-06-15  4390.3665                   12  6362.85    90193  \n",
       "2    2015-02-17   -53.8096                   22   211.15    90192  \n",
       "3    2015-05-14   803.4705                   16  1164.45    86838  \n",
       "4    2015-05-13   -24.0300                    7    22.23    86838  \n",
       "...         ...        ...                  ...      ...      ...  \n",
       "1947 2015-03-12  -116.7600                   18   207.31    87536  \n",
       "1948 2015-03-12  -160.9520                   22   143.12    87536  \n",
       "1949 2015-03-31   -41.8700                    5    59.98    87534  \n",
       "1950 2015-04-04   -24.7104                   15   135.78    87537  \n",
       "1951 2015-02-11   349.4850                    5   506.50    87530  \n",
       "\n",
       "[1952 rows x 25 columns]>"
      ]
     },
     "execution_count": 11,
     "metadata": {},
     "output_type": "execute_result"
    }
   ],
   "source": [
    "# Method 3\n",
    "# Excel Manual File Read\n",
    "# Requires openpyxl\n",
    "\n",
    "\"\"\"\n",
    "Pros: Familiar/ easy to work with, no network dependency, rich formatting supports within the file (pages, styling, formulas)\n",
    "\n",
    "Cons: Non scalable, prone to manual errors\n",
    "\"\"\"\n",
    "\n",
    "excel_df = pd.read_excel('SuperStoreUS-2015.xlsx')\n",
    "excel_df.head"
   ]
  }
 ],
 "metadata": {
  "kernelspec": {
   "display_name": ".venv",
   "language": "python",
   "name": "python3"
  },
  "language_info": {
   "codemirror_mode": {
    "name": "ipython",
    "version": 3
   },
   "file_extension": ".py",
   "mimetype": "text/x-python",
   "name": "python",
   "nbconvert_exporter": "python",
   "pygments_lexer": "ipython3",
   "version": "3.11.9"
  }
 },
 "nbformat": 4,
 "nbformat_minor": 5
}
