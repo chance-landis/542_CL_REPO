{
 "cells": [
  {
   "cell_type": "markdown",
   "id": "2a0ee58f",
   "metadata": {},
   "source": [
    "# Notes Page and Ideas"
   ]
  }
 ],
 "metadata": {
  "language_info": {
   "name": "python"
  }
 },
 "nbformat": 4,
 "nbformat_minor": 5
}
