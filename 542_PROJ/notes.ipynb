{
 "cells": [
  {
   "cell_type": "markdown",
   "id": "2a0ee58f",
   "metadata": {},
   "source": [
    "# Notes Page and Ideas\n",
    "\n",
    "## *Cone-Quest*\n",
    "\n",
    "*What is **Cone-Quest?***\n",
    "* Cone-Quest is a web page,(web-app, or maybe just a simple data store with a web front end to make it pretty.).\n",
    "* Cone-Quest will display to visitors a selection of Creameries and Frozen Dessert shops in the greater Seattle area.\n",
    "\n",
    "*What will **Cone-Quest** deliver to visitors?*\n",
    "* The webpage will display businesses hours operations, location (Maps link and maybe display on a map?), flavors, current stock?, customization options (toppings, Cups and Cones), other available food items (Main scope is still ice-cream, can list what food and snacks or link to menu), \n",
    "\n",
    "\n",
    "## TO DO\n",
    "\n",
    "* determine what information to collect\n",
    "* Create storage organization schema (Parent and child structure of JSON, OR using CSV)\n",
    "* Determine what information to present on the front page\n",
    "* Initial Rough design of front page\n",
    "* Create HTML and CSS basic web page\n",
    "* Display information from Data storage on webpage\n",
    "* MVP Front end (Map? Table?)\n",
    "\n",
    "\n"
   ]
  }
 ],
 "metadata": {
  "language_info": {
   "name": "python"
  }
 },
 "nbformat": 4,
 "nbformat_minor": 5
}
